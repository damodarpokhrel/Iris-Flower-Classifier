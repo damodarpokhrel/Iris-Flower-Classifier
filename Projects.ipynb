{
 "cells": [
  {
   "metadata": {},
   "cell_type": "markdown",
   "source": [
    "# Data Science Project Collections\n",
    "\n",
    "- https://www.geeksforgeeks.org/top-data-science-projects/\n",
    "- https://www.kaggle.com/discussions/getting-started/256014\n",
    "- https://github.com/veb-101/Data-Science-Projects?tab=readme-ov-file\n",
    "- https://github.com/sajal2692/data-science-portfolio?tab=readme-ov-file\n",
    "- https://github.com/alexattia/Data-Science-Projects\n",
    "- https://github.com/krishnaik06/Data-Science-Projects-For-Resumes"
   ],
   "id": "3b0473ebce253a1f"
  },
  {
   "metadata": {},
   "cell_type": "markdown",
   "source": [
    "# Data Science Curated Lists\n",
    "\n",
    "- https://github.com/academic/awesome-datascience\n",
    "- https://github.com/natnew/Awesome-Data-Science\n",
    "- https://github.com/krishnaik06/The-Grand-Complete-Data-Science-Materials?tab=readme-ov-file"
   ],
   "id": "140153aa44f8a4c9"
  },
  {
   "metadata": {},
   "cell_type": "markdown",
   "source": [
    "# Web Scraping\n",
    "\n",
    "- https://www.youtube.com/watch?v=ve_0h4Y8nuI&list=PLhTjy8cBISEqkN-5Ku_kXG4QW33sxQo0t\n",
    "- https://www.screamingfrog.co.uk/seo-spider/"
   ],
   "id": "aec0090705e75a3f"
  },
  {
   "metadata": {},
   "cell_type": "code",
   "outputs": [],
   "execution_count": null,
   "source": "",
   "id": "8e3806a5da738b25"
  }
 ],
 "metadata": {
  "kernelspec": {
   "display_name": "Python 3",
   "language": "python",
   "name": "python3"
  },
  "language_info": {
   "codemirror_mode": {
    "name": "ipython",
    "version": 2
   },
   "file_extension": ".py",
   "mimetype": "text/x-python",
   "name": "python",
   "nbconvert_exporter": "python",
   "pygments_lexer": "ipython2",
   "version": "2.7.6"
  }
 },
 "nbformat": 4,
 "nbformat_minor": 5
}
